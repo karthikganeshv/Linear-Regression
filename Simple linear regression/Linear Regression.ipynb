{
 "cells": [
  {
   "cell_type": "markdown",
   "metadata": {},
   "source": [
    "# Goal = To predict population of India"
   ]
  },
  {
   "cell_type": "code",
   "execution_count": 123,
   "metadata": {},
   "outputs": [],
   "source": [
    "#import requied packages\n",
    "import pandas as pd\n",
    "import numpy as np\n",
    "import matplotlib.pyplot as plt"
   ]
  },
  {
   "cell_type": "code",
   "execution_count": 124,
   "metadata": {},
   "outputs": [
    {
     "data": {
      "text/html": [
       "<div>\n",
       "<style scoped>\n",
       "    .dataframe tbody tr th:only-of-type {\n",
       "        vertical-align: middle;\n",
       "    }\n",
       "\n",
       "    .dataframe tbody tr th {\n",
       "        vertical-align: top;\n",
       "    }\n",
       "\n",
       "    .dataframe thead th {\n",
       "        text-align: right;\n",
       "    }\n",
       "</style>\n",
       "<table border=\"1\" class=\"dataframe\">\n",
       "  <thead>\n",
       "    <tr style=\"text-align: right;\">\n",
       "      <th></th>\n",
       "      <th>Year</th>\n",
       "      <th>Yearly % \\nChange</th>\n",
       "      <th>Yearly\\nChange</th>\n",
       "      <th>Migrants (net)</th>\n",
       "      <th>Median Age</th>\n",
       "      <th>Fertility Rate</th>\n",
       "      <th>Density (P/Km²)</th>\n",
       "      <th>Urban\\nPop %</th>\n",
       "      <th>Urban Population</th>\n",
       "      <th>Country's Share of\\nWorld Pop</th>\n",
       "      <th>World Population</th>\n",
       "      <th>India\\nGlobal Rank</th>\n",
       "      <th>Population</th>\n",
       "    </tr>\n",
       "  </thead>\n",
       "  <tbody>\n",
       "    <tr>\n",
       "      <th>0</th>\n",
       "      <td>2050</td>\n",
       "      <td>0.23</td>\n",
       "      <td>3711367</td>\n",
       "      <td>NaN</td>\n",
       "      <td>38.1</td>\n",
       "      <td>2.24</td>\n",
       "      <td>551</td>\n",
       "      <td>53.5</td>\n",
       "      <td>876613025</td>\n",
       "      <td>16.84</td>\n",
       "      <td>9735033990</td>\n",
       "      <td>1</td>\n",
       "      <td>1639176033</td>\n",
       "    </tr>\n",
       "    <tr>\n",
       "      <th>1</th>\n",
       "      <td>2045</td>\n",
       "      <td>0.35</td>\n",
       "      <td>5585537</td>\n",
       "      <td>-414772.0</td>\n",
       "      <td>36.6</td>\n",
       "      <td>2.24</td>\n",
       "      <td>545</td>\n",
       "      <td>50.1</td>\n",
       "      <td>811749463</td>\n",
       "      <td>17.09</td>\n",
       "      <td>9481803274</td>\n",
       "      <td>1</td>\n",
       "      <td>1620619200</td>\n",
       "    </tr>\n",
       "    <tr>\n",
       "      <th>2</th>\n",
       "      <td>2040</td>\n",
       "      <td>0.50</td>\n",
       "      <td>7793541</td>\n",
       "      <td>-415736.0</td>\n",
       "      <td>35.0</td>\n",
       "      <td>2.24</td>\n",
       "      <td>536</td>\n",
       "      <td>46.7</td>\n",
       "      <td>744380367</td>\n",
       "      <td>17.31</td>\n",
       "      <td>9198847240</td>\n",
       "      <td>1</td>\n",
       "      <td>1592691513</td>\n",
       "    </tr>\n",
       "  </tbody>\n",
       "</table>\n",
       "</div>"
      ],
      "text/plain": [
       "   Year  Yearly % \\nChange  Yearly\\nChange  Migrants (net)  Median Age  \\\n",
       "0  2050               0.23         3711367             NaN        38.1   \n",
       "1  2045               0.35         5585537       -414772.0        36.6   \n",
       "2  2040               0.50         7793541       -415736.0        35.0   \n",
       "\n",
       "   Fertility Rate  Density (P/Km²)  Urban\\nPop %  Urban Population  \\\n",
       "0            2.24              551          53.5         876613025   \n",
       "1            2.24              545          50.1         811749463   \n",
       "2            2.24              536          46.7         744380367   \n",
       "\n",
       "   Country's Share of\\nWorld Pop World Population  India\\nGlobal Rank  \\\n",
       "0                          16.84       9735033990                   1   \n",
       "1                          17.09       9481803274                   1   \n",
       "2                          17.31       9198847240                   1   \n",
       "\n",
       "   Population  \n",
       "0  1639176033  \n",
       "1  1620619200  \n",
       "2  1592691513  "
      ]
     },
     "execution_count": 124,
     "metadata": {},
     "output_type": "execute_result"
    }
   ],
   "source": [
    "#import dataset\n",
    "data = pd.read_csv('Downloads//population.csv')\n",
    "data.head(3)"
   ]
  },
  {
   "cell_type": "code",
   "execution_count": 125,
   "metadata": {},
   "outputs": [
    {
     "data": {
      "text/plain": [
       "0.9999980575544165"
      ]
     },
     "execution_count": 125,
     "metadata": {},
     "output_type": "execute_result"
    }
   ],
   "source": [
    "data.iloc[:,6].corr(data['Population'])"
   ]
  },
  {
   "cell_type": "code",
   "execution_count": 126,
   "metadata": {},
   "outputs": [
    {
     "data": {
      "text/plain": [
       "(24, 13)"
      ]
     },
     "execution_count": 126,
     "metadata": {},
     "output_type": "execute_result"
    }
   ],
   "source": [
    "data.shape"
   ]
  },
  {
   "cell_type": "markdown",
   "metadata": {},
   "source": [
    "# Linear Regression"
   ]
  },
  {
   "cell_type": "code",
   "execution_count": 127,
   "metadata": {},
   "outputs": [
    {
     "data": {
      "text/plain": [
       "Year                             0\n",
       "Yearly % \\nChange                0\n",
       "Yearly\\nChange                   0\n",
       "Migrants (net)                   1\n",
       "Median Age                       0\n",
       "Fertility Rate                   0\n",
       "Density (P/Km²)                  0\n",
       "Urban\\nPop %                     0\n",
       "Urban Population                 0\n",
       "Country's Share of\\nWorld Pop    0\n",
       "World Population                 0\n",
       "India\\nGlobal Rank               0\n",
       "Population                       0\n",
       "dtype: int64"
      ]
     },
     "execution_count": 127,
     "metadata": {},
     "output_type": "execute_result"
    }
   ],
   "source": [
    "#pre checks\n",
    "data.isnull().sum()"
   ]
  },
  {
   "cell_type": "code",
   "execution_count": 128,
   "metadata": {},
   "outputs": [
    {
     "name": "stdout",
     "output_type": "stream",
     "text": [
      "<class 'pandas.core.frame.DataFrame'>\n",
      "RangeIndex: 24 entries, 0 to 23\n",
      "Data columns (total 13 columns):\n",
      " #   Column                        Non-Null Count  Dtype  \n",
      "---  ------                        --------------  -----  \n",
      " 0   Year                          24 non-null     int64  \n",
      " 1   Yearly % \n",
      "Change              24 non-null     float64\n",
      " 2   Yearly\n",
      "Change                 24 non-null     int64  \n",
      " 3   Migrants (net)                23 non-null     float64\n",
      " 4   Median Age                    24 non-null     float64\n",
      " 5   Fertility Rate                24 non-null     float64\n",
      " 6   Density (P/Km²)               24 non-null     int64  \n",
      " 7   Urban\n",
      "Pop %                   24 non-null     float64\n",
      " 8   Urban Population              24 non-null     int64  \n",
      " 9   Country's Share of\n",
      "World Pop  24 non-null     float64\n",
      " 10  World Population              24 non-null     object \n",
      " 11  India\n",
      "Global Rank             24 non-null     int64  \n",
      " 12  Population                    24 non-null     int64  \n",
      "dtypes: float64(6), int64(6), object(1)\n",
      "memory usage: 2.6+ KB\n"
     ]
    }
   ],
   "source": [
    "data.info()"
   ]
  },
  {
   "cell_type": "code",
   "execution_count": 129,
   "metadata": {},
   "outputs": [
    {
     "data": {
      "text/html": [
       "<div>\n",
       "<style scoped>\n",
       "    .dataframe tbody tr th:only-of-type {\n",
       "        vertical-align: middle;\n",
       "    }\n",
       "\n",
       "    .dataframe tbody tr th {\n",
       "        vertical-align: top;\n",
       "    }\n",
       "\n",
       "    .dataframe thead th {\n",
       "        text-align: right;\n",
       "    }\n",
       "</style>\n",
       "<table border=\"1\" class=\"dataframe\">\n",
       "  <thead>\n",
       "    <tr style=\"text-align: right;\">\n",
       "      <th></th>\n",
       "      <th>Year</th>\n",
       "      <th>Yearly % \\nChange</th>\n",
       "      <th>Yearly\\nChange</th>\n",
       "      <th>Migrants (net)</th>\n",
       "      <th>Median Age</th>\n",
       "      <th>Fertility Rate</th>\n",
       "      <th>Density (P/Km²)</th>\n",
       "      <th>Urban\\nPop %</th>\n",
       "      <th>Urban Population</th>\n",
       "      <th>Country's Share of\\nWorld Pop</th>\n",
       "      <th>World Population</th>\n",
       "      <th>India\\nGlobal Rank</th>\n",
       "      <th>Population</th>\n",
       "    </tr>\n",
       "  </thead>\n",
       "  <tbody>\n",
       "    <tr>\n",
       "      <th>0</th>\n",
       "      <td>2050</td>\n",
       "      <td>0.23</td>\n",
       "      <td>3711367</td>\n",
       "      <td>NaN</td>\n",
       "      <td>38.1</td>\n",
       "      <td>2.24</td>\n",
       "      <td>551</td>\n",
       "      <td>53.5</td>\n",
       "      <td>876613025</td>\n",
       "      <td>16.84</td>\n",
       "      <td>9735033990</td>\n",
       "      <td>1</td>\n",
       "      <td>1639176033</td>\n",
       "    </tr>\n",
       "    <tr>\n",
       "      <th>1</th>\n",
       "      <td>2045</td>\n",
       "      <td>0.35</td>\n",
       "      <td>5585537</td>\n",
       "      <td>-414772.0</td>\n",
       "      <td>36.6</td>\n",
       "      <td>2.24</td>\n",
       "      <td>545</td>\n",
       "      <td>50.1</td>\n",
       "      <td>811749463</td>\n",
       "      <td>17.09</td>\n",
       "      <td>9481803274</td>\n",
       "      <td>1</td>\n",
       "      <td>1620619200</td>\n",
       "    </tr>\n",
       "  </tbody>\n",
       "</table>\n",
       "</div>"
      ],
      "text/plain": [
       "   Year  Yearly % \\nChange  Yearly\\nChange  Migrants (net)  Median Age  \\\n",
       "0  2050               0.23         3711367             NaN        38.1   \n",
       "1  2045               0.35         5585537       -414772.0        36.6   \n",
       "\n",
       "   Fertility Rate  Density (P/Km²)  Urban\\nPop %  Urban Population  \\\n",
       "0            2.24              551          53.5         876613025   \n",
       "1            2.24              545          50.1         811749463   \n",
       "\n",
       "   Country's Share of\\nWorld Pop World Population  India\\nGlobal Rank  \\\n",
       "0                          16.84       9735033990                   1   \n",
       "1                          17.09       9481803274                   1   \n",
       "\n",
       "   Population  \n",
       "0  1639176033  \n",
       "1  1620619200  "
      ]
     },
     "execution_count": 129,
     "metadata": {},
     "output_type": "execute_result"
    }
   ],
   "source": [
    "data.head(2)"
   ]
  },
  {
   "cell_type": "code",
   "execution_count": 135,
   "metadata": {},
   "outputs": [],
   "source": [
    "#Mark X and y\n",
    "X = data.iloc[:,6].values\n",
    "y = data.Population.values"
   ]
  },
  {
   "cell_type": "code",
   "execution_count": 136,
   "metadata": {},
   "outputs": [
    {
     "name": "stdout",
     "output_type": "stream",
     "text": [
      "24\n",
      "24\n"
     ]
    }
   ],
   "source": [
    "print(X.size)\n",
    "print(y.size)"
   ]
  },
  {
   "cell_type": "code",
   "execution_count": 137,
   "metadata": {},
   "outputs": [],
   "source": [
    "Xmean = np.mean(X)\n",
    "ymean = np.mean(y)"
   ]
  },
  {
   "cell_type": "code",
   "execution_count": 138,
   "metadata": {},
   "outputs": [],
   "source": [
    "n = len(X)\n",
    "t = 0\n",
    "b = 0\n",
    "for i in range(n):\n",
    "    t += (X[i]-Xmean)*(y[i]-ymean)\n",
    "    b += (X[i]-Xmean)**2\n",
    "m = t/b\n",
    "c = ymean-m*Xmean\n",
    "ypredict=m*X+c"
   ]
  },
  {
   "cell_type": "code",
   "execution_count": 139,
   "metadata": {},
   "outputs": [
    {
     "data": {
      "image/png": "[encoded data removed]",
      "text/plain": [
       "<Figure size 432x288 with 1 Axes>"
      ]
     },
     "metadata": {
      "needs_background": "light"
     },
     "output_type": "display_data"
    }
   ],
   "source": [
    "plt.plot(X,ypredict,color='r',label='Regression Line')\n",
    "plt.scatter(X,y,label='Scatter Plot')\n",
    "plt.legend()\n",
    "plt.show()"
   ]
  },
  {
   "cell_type": "markdown",
   "metadata": {},
   "source": [
    "# Check accuracy of model"
   ]
  },
  {
   "cell_type": "code",
   "execution_count": 140,
   "metadata": {},
   "outputs": [
    {
     "data": {
      "text/plain": [
       "0.999996115112606"
      ]
     },
     "execution_count": 140,
     "metadata": {},
     "output_type": "execute_result"
    }
   ],
   "source": [
    "ss_t = 0\n",
    "ss_r = 0\n",
    "for i in range(n):\n",
    "    ypredict = m*X[i]+c\n",
    "    ss_t += (y[i]-ymean)**2\n",
    "    ss_r += (y[i]-c)**2\n",
    "    rsquare = 1-(ss_r/ss_t)\n",
    "rsquare.mean()"
   ]
  },
  {
   "cell_type": "markdown",
   "metadata": {},
   "source": [
    "# Linear Regression using Sklearn"
   ]
  },
  {
   "cell_type": "code",
   "execution_count": 164,
   "metadata": {},
   "outputs": [],
   "source": [
    "from sklearn.linear_model import LinearRegression\n",
    "from sklearn.metrics import mean_squared_error\n",
    "from sklearn.model_selection import train_test_split\n",
    "from sklearn.metrics import r2_score, accuracy_score"
   ]
  },
  {
   "cell_type": "code",
   "execution_count": 165,
   "metadata": {},
   "outputs": [],
   "source": [
    "X_train,X_test,y_train,y_test = train_test_split(X,y,random_state=5)"
   ]
  },
  {
   "cell_type": "code",
   "execution_count": 166,
   "metadata": {},
   "outputs": [],
   "source": [
    "X_test = np.array(X_test).reshape(-1,1)\n",
    "y_test = np.array(y_test).reshape(-1,1)\n",
    "X_train = np.array(X_train).reshape(-1,1)\n",
    "y_train = np.array(y_train).reshape(-1,1)"
   ]
  },
  {
   "cell_type": "code",
   "execution_count": 167,
   "metadata": {},
   "outputs": [
    {
     "data": {
      "text/plain": [
       "LinearRegression()"
      ]
     },
     "execution_count": 167,
     "metadata": {},
     "output_type": "execute_result"
    }
   ],
   "source": [
    "model = LinearRegression()\n",
    "model.fit(X_train,y_train)"
   ]
  },
  {
   "cell_type": "code",
   "execution_count": 168,
   "metadata": {},
   "outputs": [],
   "source": [
    "predict = model.predict(X_test)"
   ]
  },
  {
   "cell_type": "code",
   "execution_count": 169,
   "metadata": {},
   "outputs": [
    {
     "data": {
      "text/plain": [
       "0.9999971642709015"
      ]
     },
     "execution_count": 169,
     "metadata": {},
     "output_type": "execute_result"
    }
   ],
   "source": [
    "r2_score(y_test,predict)"
   ]
  },
  {
   "cell_type": "code",
   "execution_count": null,
   "metadata": {},
   "outputs": [],
   "source": []
  }
 ],
 "metadata": {
  "kernelspec": {
   "display_name": "Python 3",
   "language": "python",
   "name": "python3"
  },
  "language_info": {
   "codemirror_mode": {
    "name": "ipython",
    "version": 3
   },
   "file_extension": ".py",
   "mimetype": "text/x-python",
   "name": "python",
   "nbconvert_exporter": "python",
   "pygments_lexer": "ipython3",
   "version": "3.8.3"
  }
 },
 "nbformat": 4,
 "nbformat_minor": 4
}
